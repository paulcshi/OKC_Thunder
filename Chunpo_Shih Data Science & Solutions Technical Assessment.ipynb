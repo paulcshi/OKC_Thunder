{
 "cells": [
  {
   "cell_type": "markdown",
   "id": "22d50d58-1d90-4a0b-a689-a1317d7af726",
   "metadata": {},
   "source": [
    "# Data Science & Solutions Technical Assessment"
   ]
  },
  {
   "cell_type": "code",
   "execution_count": 1,
   "id": "f767b093",
   "metadata": {},
   "outputs": [],
   "source": [
    "import pandas as pd\n",
    "from numpy import sqrt "
   ]
  },
  {
   "cell_type": "code",
   "execution_count": 2,
   "id": "49f8b952",
   "metadata": {},
   "outputs": [
    {
     "data": {
      "text/html": [
       "<div>\n",
       "<style scoped>\n",
       "    .dataframe tbody tr th:only-of-type {\n",
       "        vertical-align: middle;\n",
       "    }\n",
       "\n",
       "    .dataframe tbody tr th {\n",
       "        vertical-align: top;\n",
       "    }\n",
       "\n",
       "    .dataframe thead th {\n",
       "        text-align: right;\n",
       "    }\n",
       "</style>\n",
       "<table border=\"1\" class=\"dataframe\">\n",
       "  <thead>\n",
       "    <tr style=\"text-align: right;\">\n",
       "      <th></th>\n",
       "      <th>team</th>\n",
       "      <th>x</th>\n",
       "      <th>y</th>\n",
       "      <th>fgmade</th>\n",
       "    </tr>\n",
       "  </thead>\n",
       "  <tbody>\n",
       "    <tr>\n",
       "      <th>0</th>\n",
       "      <td>Team A</td>\n",
       "      <td>-23.1</td>\n",
       "      <td>3.5</td>\n",
       "      <td>0</td>\n",
       "    </tr>\n",
       "    <tr>\n",
       "      <th>1</th>\n",
       "      <td>Team A</td>\n",
       "      <td>0.0</td>\n",
       "      <td>25.1</td>\n",
       "      <td>1</td>\n",
       "    </tr>\n",
       "    <tr>\n",
       "      <th>2</th>\n",
       "      <td>Team A</td>\n",
       "      <td>0.5</td>\n",
       "      <td>1.0</td>\n",
       "      <td>1</td>\n",
       "    </tr>\n",
       "    <tr>\n",
       "      <th>3</th>\n",
       "      <td>Team A</td>\n",
       "      <td>-5.6</td>\n",
       "      <td>5.2</td>\n",
       "      <td>0</td>\n",
       "    </tr>\n",
       "    <tr>\n",
       "      <th>4</th>\n",
       "      <td>Team A</td>\n",
       "      <td>4.0</td>\n",
       "      <td>14.5</td>\n",
       "      <td>1</td>\n",
       "    </tr>\n",
       "  </tbody>\n",
       "</table>\n",
       "</div>"
      ],
      "text/plain": [
       "     team     x     y  fgmade\n",
       "0  Team A -23.1   3.5       0\n",
       "1  Team A   0.0  25.1       1\n",
       "2  Team A   0.5   1.0       1\n",
       "3  Team A  -5.6   5.2       0\n",
       "4  Team A   4.0  14.5       1"
      ]
     },
     "execution_count": 2,
     "metadata": {},
     "output_type": "execute_result"
    }
   ],
   "source": [
    "# Load data set\n",
    "df = pd.read_csv('shots_data.csv')\n",
    "df.head()"
   ]
  },
  {
   "cell_type": "markdown",
   "id": "1d68925b-3a60-4219-8249-f9189f08a196",
   "metadata": {},
   "source": [
    "### Shot Distribution"
   ]
  },
  {
   "cell_type": "code",
   "execution_count": 3,
   "id": "3faeb931-1146-49ea-930f-e43ad9212b72",
   "metadata": {},
   "outputs": [],
   "source": [
    "# Determine the shotzones(2PT, NC3 or C3)\n",
    "df.loc[(df.y <= 7.8) & (abs(df.x) <= 22) , 'Shot Distribution'] = '2PT'\n",
    "df.loc[(df.y <= 7.8) & (abs(df.x) > 22) , 'Shot Distribution'] = 'C3'\n",
    "df.loc[(df.y > 7.8) & (sqrt(df.x ** 2 + df.y ** 2) <= 23.75) , 'Shot Distribution'] = '2PT'\n",
    "df.loc[(df.y > 7.8) & (sqrt(df.x ** 2 + df.y ** 2) > 23.75) , 'Shot Distribution'] = 'NC3'\n",
    "df.loc[(df.y > 7.8) & (abs(df.x) > 22) , 'Shot Distribution'] = 'NC3'"
   ]
  },
  {
   "cell_type": "code",
   "execution_count": 21,
   "id": "1915a095-3301-4e50-b680-aa5c340dd75c",
   "metadata": {},
   "outputs": [
    {
     "data": {
      "text/html": [
       "<div>\n",
       "<style scoped>\n",
       "    .dataframe tbody tr th:only-of-type {\n",
       "        vertical-align: middle;\n",
       "    }\n",
       "\n",
       "    .dataframe tbody tr th {\n",
       "        vertical-align: top;\n",
       "    }\n",
       "\n",
       "    .dataframe thead th {\n",
       "        text-align: right;\n",
       "    }\n",
       "</style>\n",
       "<table border=\"1\" class=\"dataframe\">\n",
       "  <thead>\n",
       "    <tr style=\"text-align: right;\">\n",
       "      <th></th>\n",
       "      <th>team</th>\n",
       "      <th>x</th>\n",
       "      <th>y</th>\n",
       "      <th>fgmade</th>\n",
       "      <th>Shot Distribution</th>\n",
       "    </tr>\n",
       "  </thead>\n",
       "  <tbody>\n",
       "    <tr>\n",
       "      <th>0</th>\n",
       "      <td>Team A</td>\n",
       "      <td>-23.1</td>\n",
       "      <td>3.5</td>\n",
       "      <td>0</td>\n",
       "      <td>C3</td>\n",
       "    </tr>\n",
       "    <tr>\n",
       "      <th>1</th>\n",
       "      <td>Team A</td>\n",
       "      <td>0.0</td>\n",
       "      <td>25.1</td>\n",
       "      <td>1</td>\n",
       "      <td>NC3</td>\n",
       "    </tr>\n",
       "    <tr>\n",
       "      <th>2</th>\n",
       "      <td>Team A</td>\n",
       "      <td>0.5</td>\n",
       "      <td>1.0</td>\n",
       "      <td>1</td>\n",
       "      <td>2PT</td>\n",
       "    </tr>\n",
       "    <tr>\n",
       "      <th>3</th>\n",
       "      <td>Team A</td>\n",
       "      <td>-5.6</td>\n",
       "      <td>5.2</td>\n",
       "      <td>0</td>\n",
       "      <td>2PT</td>\n",
       "    </tr>\n",
       "    <tr>\n",
       "      <th>4</th>\n",
       "      <td>Team A</td>\n",
       "      <td>4.0</td>\n",
       "      <td>14.5</td>\n",
       "      <td>1</td>\n",
       "      <td>2PT</td>\n",
       "    </tr>\n",
       "  </tbody>\n",
       "</table>\n",
       "</div>"
      ],
      "text/plain": [
       "     team     x     y  fgmade Shot Distribution\n",
       "0  Team A -23.1   3.5       0                C3\n",
       "1  Team A   0.0  25.1       1               NC3\n",
       "2  Team A   0.5   1.0       1               2PT\n",
       "3  Team A  -5.6   5.2       0               2PT\n",
       "4  Team A   4.0  14.5       1               2PT"
      ]
     },
     "execution_count": 21,
     "metadata": {},
     "output_type": "execute_result"
    }
   ],
   "source": [
    "df.head()"
   ]
  },
  {
   "cell_type": "code",
   "execution_count": 4,
   "id": "1c3d7b6d-5fe0-4051-a52a-e45eeff7f57a",
   "metadata": {},
   "outputs": [],
   "source": [
    "# Team A FGs\n",
    "team_a_shots = df[df[\"team\"] == \"Team A\"]\n",
    "\n",
    "# Team B FGs\n",
    "team_b_shots = df[df[\"team\"] == \"Team B\"]"
   ]
  },
  {
   "cell_type": "code",
   "execution_count": 5,
   "id": "8875203d",
   "metadata": {},
   "outputs": [
    {
     "data": {
      "text/plain": [
       "2PT    170\n",
       "NC3     90\n",
       "C3      20\n",
       "Name: Shot Distribution, dtype: int64"
      ]
     },
     "execution_count": 5,
     "metadata": {},
     "output_type": "execute_result"
    }
   ],
   "source": [
    "# The amount of team A shots attempted within a zone\n",
    "team_a_shots_dist = team_a_shots['Shot Distribution'].value_counts()\n",
    "team_a_shots_dist"
   ]
  },
  {
   "cell_type": "code",
   "execution_count": 35,
   "id": "4f0948ca-9a1e-44b3-bb54-c2a277a25375",
   "metadata": {},
   "outputs": [
    {
     "name": "stdout",
     "output_type": "stream",
     "text": [
      "The percentage of team A shots attempted within 2PT: 60.71%\n",
      "The percentage of team A shots attempted within C3: 7.14%\n",
      "The percentage of team A shots attempted within NC3: 32.14%\n"
     ]
    }
   ],
   "source": [
    "# calculate Shot Distribution: the percentage of team A shots attempted within a zone\n",
    "teamA_FGA = team_a_shots.shape[0]\n",
    "team_a_shots_attempted_2PT = team_a_shots_dist[\"2PT\"] / teamA_FGA\n",
    "team_a_shots_attempted_C3 = team_a_shots_dist[\"C3\"] / teamA_FGA\n",
    "team_a_shots_attempted_NC3 = team_a_shots_dist[\"NC3\"] / teamA_FGA\n",
    "print (f'The percentage of team A shots attempted within 2PT: {(team_a_shots_attempted_2PT):.2%}')\n",
    "print (f'The percentage of team A shots attempted within C3: {(team_a_shots_attempted_C3):.2%}')\n",
    "print (f'The percentage of team A shots attempted within NC3: {(team_a_shots_attempted_NC3):.2%}')"
   ]
  },
  {
   "cell_type": "code",
   "execution_count": 56,
   "id": "653fdbc4-5ce4-40fe-a562-88f0dcab505a",
   "metadata": {},
   "outputs": [
    {
     "data": {
      "text/html": [
       "<div>\n",
       "<style scoped>\n",
       "    .dataframe tbody tr th:only-of-type {\n",
       "        vertical-align: middle;\n",
       "    }\n",
       "\n",
       "    .dataframe tbody tr th {\n",
       "        vertical-align: top;\n",
       "    }\n",
       "\n",
       "    .dataframe thead th {\n",
       "        text-align: right;\n",
       "    }\n",
       "</style>\n",
       "<table border=\"1\" class=\"dataframe\">\n",
       "  <thead>\n",
       "    <tr style=\"text-align: right;\">\n",
       "      <th></th>\n",
       "      <th>Team A Distribution</th>\n",
       "      <th>Percentage of Shots Attempted</th>\n",
       "    </tr>\n",
       "  </thead>\n",
       "  <tbody>\n",
       "    <tr>\n",
       "      <th>0</th>\n",
       "      <td>Two Point</td>\n",
       "      <td>60.71%</td>\n",
       "    </tr>\n",
       "    <tr>\n",
       "      <th>1</th>\n",
       "      <td>Corner 3</td>\n",
       "      <td>7.14%</td>\n",
       "    </tr>\n",
       "    <tr>\n",
       "      <th>2</th>\n",
       "      <td>Non Corner 3</td>\n",
       "      <td>32.14%</td>\n",
       "    </tr>\n",
       "  </tbody>\n",
       "</table>\n",
       "</div>"
      ],
      "text/plain": [
       "  Team A Distribution Percentage of Shots Attempted\n",
       "0           Two Point                        60.71%\n",
       "1            Corner 3                         7.14%\n",
       "2        Non Corner 3                        32.14%"
      ]
     },
     "execution_count": 56,
     "metadata": {},
     "output_type": "execute_result"
    }
   ],
   "source": [
    "# show Shot Distribution in DataFrame\n",
    "data_a = [['Two Point', f'{(team_a_shots_attempted_2PT):.2%}'], ['Corner 3', f'{(team_a_shots_attempted_C3):.2%}'],  \n",
    "        ['Non Corner 3', f'{(team_a_shots_attempted_NC3):.2%}']]\n",
    "dfa = pd.DataFrame(data_a, columns = ['Team A Distribution', 'Percentage of Shots Attempted'])\n",
    "dfa"
   ]
  },
  {
   "cell_type": "code",
   "execution_count": 8,
   "id": "619d9ce7-6e46-461c-b717-ef93448a68e7",
   "metadata": {},
   "outputs": [
    {
     "data": {
      "text/plain": [
       "2PT    163\n",
       "NC3     96\n",
       "C3      21\n",
       "Name: Shot Distribution, dtype: int64"
      ]
     },
     "execution_count": 8,
     "metadata": {},
     "output_type": "execute_result"
    }
   ],
   "source": [
    "# The amount of team B shots attempted within a zone\n",
    "team_b_shots_dist = team_b_shots['Shot Distribution'].value_counts()\n",
    "team_b_shots_dist"
   ]
  },
  {
   "cell_type": "code",
   "execution_count": 40,
   "id": "5c9b0af9-f72c-4aba-9fad-e93e314f3cb9",
   "metadata": {},
   "outputs": [
    {
     "name": "stdout",
     "output_type": "stream",
     "text": [
      "The percentage of team B shots attempted within 2PT: 58.21%\n",
      "The percentage of team B shots attempted within C3: 7.50%\n",
      "The percentage of team B shots attempted within NC3: 34.29%\n"
     ]
    }
   ],
   "source": [
    "# calculate Shot Distribution: the percentage of team B shots attempted within a zone\n",
    "teamB_FGA = team_b_shots.shape[0]\n",
    "team_b_shots_attempted_2PT = team_b_shots_dist[\"2PT\"] / teamB_FGA\n",
    "team_b_shots_attempted_C3 = team_b_shots_dist[\"C3\"] / teamB_FGA\n",
    "team_b_shots_attempted_NC3 = team_b_shots_dist[\"NC3\"] / teamB_FGA\n",
    "print (f'The percentage of team B shots attempted within 2PT: {(team_b_shots_attempted_2PT):.2%}')\n",
    "print (f'The percentage of team B shots attempted within C3: {(team_b_shots_attempted_C3):.2%}')\n",
    "print (f'The percentage of team B shots attempted within NC3: {(team_b_shots_attempted_NC3):.2%}')"
   ]
  },
  {
   "cell_type": "code",
   "execution_count": 43,
   "id": "40ab850c-9ad6-4b81-8741-586c8aebca8d",
   "metadata": {},
   "outputs": [
    {
     "data": {
      "text/html": [
       "<div>\n",
       "<style scoped>\n",
       "    .dataframe tbody tr th:only-of-type {\n",
       "        vertical-align: middle;\n",
       "    }\n",
       "\n",
       "    .dataframe tbody tr th {\n",
       "        vertical-align: top;\n",
       "    }\n",
       "\n",
       "    .dataframe thead th {\n",
       "        text-align: right;\n",
       "    }\n",
       "</style>\n",
       "<table border=\"1\" class=\"dataframe\">\n",
       "  <thead>\n",
       "    <tr style=\"text-align: right;\">\n",
       "      <th></th>\n",
       "      <th>Team B Distribution</th>\n",
       "      <th>Percentage of Shots Attempted</th>\n",
       "    </tr>\n",
       "  </thead>\n",
       "  <tbody>\n",
       "    <tr>\n",
       "      <th>0</th>\n",
       "      <td>Two Point</td>\n",
       "      <td>58.21%</td>\n",
       "    </tr>\n",
       "    <tr>\n",
       "      <th>1</th>\n",
       "      <td>Corner 3</td>\n",
       "      <td>7.50%</td>\n",
       "    </tr>\n",
       "    <tr>\n",
       "      <th>2</th>\n",
       "      <td>Non Corner 3</td>\n",
       "      <td>34.29%</td>\n",
       "    </tr>\n",
       "  </tbody>\n",
       "</table>\n",
       "</div>"
      ],
      "text/plain": [
       "  Team B Distribution Percentage of Shots Attempted\n",
       "0           Two Point                        58.21%\n",
       "1            Corner 3                         7.50%\n",
       "2        Non Corner 3                        34.29%"
      ]
     },
     "execution_count": 43,
     "metadata": {},
     "output_type": "execute_result"
    }
   ],
   "source": [
    "# show Shot Distribution in DataFrame\n",
    "data_b = [['Two Point', f'{(team_b_shots_attempted_2PT):.2%}'], ['Corner 3', f'{(team_b_shots_attempted_C3):.2%}'],  \n",
    "        ['Non Corner 3', f'{(team_b_shots_attempted_NC3):.2%}']]\n",
    "dfb = pd.DataFrame(data_b, columns = ['Team B Distribution', 'Percentage of Shots Attempted'])\n",
    "dfb"
   ]
  },
  {
   "cell_type": "markdown",
   "id": "946a3006-e3dd-42ae-8883-1593cd0fee84",
   "metadata": {},
   "source": [
    "### Effective Field Goal Percentage"
   ]
  },
  {
   "cell_type": "code",
   "execution_count": 64,
   "id": "7bcd9992-f46a-4ef0-b139-09bb8f516c81",
   "metadata": {},
   "outputs": [],
   "source": [
    "# data of teamA in each zone\n",
    "df_teamA_2PT = team_a_shots.loc[team_a_shots['Shot Distribution'] == '2PT']\n",
    "df_teamA_NC3 = team_a_shots.loc[team_a_shots['Shot Distribution'] == 'NC3']\n",
    "df_teamA_C3 = team_a_shots.loc[team_a_shots['Shot Distribution'] == 'C3']\n",
    "\n",
    "# data of teamB in each zone\n",
    "df_teamB_2PT = team_b_shots.loc[team_b_shots['Shot Distribution'] == '2PT']\n",
    "df_teamB_NC3 = team_b_shots.loc[team_b_shots['Shot Distribution'] == 'NC3']\n",
    "df_teamB_C3 = team_b_shots.loc[team_b_shots['Shot Distribution'] == 'C3']"
   ]
  },
  {
   "cell_type": "code",
   "execution_count": 66,
   "id": "d4c3f8e5-d1b7-49ef-8ed2-f9410de24812",
   "metadata": {},
   "outputs": [
    {
     "name": "stdout",
     "output_type": "stream",
     "text": [
      "FGA of team A within 2PT: 170\n",
      "FGA of team A within NC3: 90\n",
      "FGA of team A within C3: 20\n",
      "\n",
      "FGA of team B within 2PT: 163\n",
      "FGA of team B within NC3: 96\n",
      "FGA of team B within C3: 21\n"
     ]
    }
   ],
   "source": [
    "teamA_FGA_2PT = df_teamA_2PT.shape[0]\n",
    "teamA_FGA_NC3 = df_teamA_NC3.shape[0]\n",
    "teamA_FGA_C3 = df_teamA_C3.shape[0]\n",
    "print (f'FGA of team A within 2PT: {teamA_FGA_2PT}')\n",
    "print (f'FGA of team A within NC3: {teamA_FGA_NC3}')\n",
    "print (f'FGA of team A within C3: {teamA_FGA_C3}')\n",
    "\n",
    "teamB_FGA_2PT = df_teamB_2PT.shape[0]\n",
    "teamB_FGA_NC3 = df_teamB_NC3.shape[0]\n",
    "teamB_FGA_C3 = df_teamB_C3.shape[0]\n",
    "print (f'\\nFGA of team B within 2PT: {teamB_FGA_2PT}')\n",
    "print (f'FGA of team B within NC3: {teamB_FGA_NC3}')\n",
    "print (f'FGA of team B within C3: {teamB_FGA_C3}')"
   ]
  },
  {
   "cell_type": "code",
   "execution_count": 74,
   "id": "2dcaf58c-3db5-43a5-a485-f27cbe0288cb",
   "metadata": {},
   "outputs": [
    {
     "name": "stdout",
     "output_type": "stream",
     "text": [
      "FGs Attempted (0 = Miss, 1 = Make):\n",
      "\n",
      "=== All Zone === \n",
      "TeamA:\n",
      "0    175\n",
      "1    105\n",
      "Name: fgmade, dtype: int64\n",
      "\n",
      "TeamB:\n",
      "0    165\n",
      "1    115\n",
      "Name: fgmade, dtype: int64\n",
      "\n",
      "=== 2PT Zone === \n",
      "TeamA:\n",
      "0    102\n",
      "1     68\n",
      "Name: fgmade, dtype: int64\n",
      "\n",
      "TeamB:\n",
      "0    88\n",
      "1    75\n",
      "Name: fgmade, dtype: int64\n",
      "\n",
      "=== NC3 Zone === \n",
      "TeamA:\n",
      "0    61\n",
      "1    29\n",
      "Name: fgmade, dtype: int64\n",
      "\n",
      "TeamB:\n",
      "0    61\n",
      "1    35\n",
      "Name: fgmade, dtype: int64\n",
      "\n",
      "=== C3 Zone === \n",
      "TeamA:\n",
      "0    12\n",
      "1     8\n",
      "Name: fgmade, dtype: int64\n",
      "\n",
      "TeamB:\n",
      "0    16\n",
      "1     5\n",
      "Name: fgmade, dtype: int64\n"
     ]
    }
   ],
   "source": [
    "# FGs Attempted - Team A (0 = Miss, 1 = Make)\n",
    "team_a_shots_made = team_a_shots['fgmade'].value_counts()\n",
    "team_a_shots_made_2PT = df_teamA_2PT['fgmade'].value_counts()\n",
    "team_a_shots_made_NC3 = df_teamA_NC3['fgmade'].value_counts()\n",
    "team_a_shots_made_C3 = df_teamA_C3['fgmade'].value_counts()\n",
    "\n",
    "# FGs Attempted - Team B (0 = Miss, 1 = Make)\n",
    "team_b_shots_made = team_b_shots['fgmade'].value_counts()\n",
    "team_b_shots_made_2PT = df_teamB_2PT['fgmade'].value_counts()\n",
    "team_b_shots_made_NC3 = df_teamB_NC3['fgmade'].value_counts()\n",
    "team_b_shots_made_C3 = df_teamB_C3['fgmade'].value_counts()\n",
    "\n",
    "print ('FGs Attempted (0 = Miss, 1 = Make):')\n",
    "print (f'\\n=== All Zone === \\nTeamA:\\n{team_a_shots_made}\\n\\nTeamB:\\n{team_b_shots_made}')\n",
    "print (f'\\n=== 2PT Zone === \\nTeamA:\\n{team_a_shots_made_2PT}\\n\\nTeamB:\\n{team_b_shots_made_2PT}')\n",
    "print (f'\\n=== NC3 Zone === \\nTeamA:\\n{team_a_shots_made_NC3}\\n\\nTeamB:\\n{team_b_shots_made_NC3}')\n",
    "print (f'\\n=== C3 Zone === \\nTeamA:\\n{team_a_shots_made_C3}\\n\\nTeamB:\\n{team_b_shots_made_C3}')"
   ]
  },
  {
   "cell_type": "code",
   "execution_count": 76,
   "id": "71fcd0d2-5615-4753-8b39-553feb409359",
   "metadata": {},
   "outputs": [
    {
     "name": "stdout",
     "output_type": "stream",
     "text": [
      "FG Made - Team A : 105\n",
      "FG Made(2PT Zone) - Team A : 68\n",
      "FG Made(NC3 Zone) - Team A : 29\n",
      "FG Made(C3 Zone) - Team A : 8\n",
      "\n",
      "FG Made - Team B : 115\n",
      "FG Made(2PT Zone) - Team B : 75\n",
      "FG Made(NC3 Zone) - Team B : 35\n",
      "FG Made(C3 Zone) - Team B : 5\n",
      "\n"
     ]
    }
   ],
   "source": [
    "# FG Made\n",
    "teamA_FGM = team_a_shots_made[1]\n",
    "teamA_FGM_2PT = team_a_shots_made_2PT[1]\n",
    "teamA_FGM_NC3 = team_a_shots_made_NC3[1]\n",
    "teamA_FGM_C3 = team_a_shots_made_C3[1]\n",
    "teamB_FGM = team_b_shots_made[1]\n",
    "teamB_FGM_2PT = team_b_shots_made_2PT[1]\n",
    "teamB_FGM_NC3 = team_b_shots_made_NC3[1]\n",
    "teamB_FGM_C3 = team_b_shots_made_C3[1]\n",
    "print(f'FG Made - Team A : {teamA_FGM}\\nFG Made(2PT Zone) - Team A : {teamA_FGM_2PT}\\nFG Made(NC3 Zone) - Team A : {teamA_FGM_NC3}\\nFG Made(C3 Zone) - Team A : {teamA_FGM_C3}\\n')\n",
    "print(f'FG Made - Team B : {teamB_FGM}\\nFG Made(2PT Zone) - Team B : {teamB_FGM_2PT}\\nFG Made(NC3 Zone) - Team B : {teamB_FGM_NC3}\\nFG Made(C3 Zone) - Team B : {teamB_FGM_C3}\\n')"
   ]
  },
  {
   "cell_type": "code",
   "execution_count": 84,
   "id": "d6e64f08-a02a-4c5e-b314-75b028dad3da",
   "metadata": {},
   "outputs": [
    {
     "name": "stdout",
     "output_type": "stream",
     "text": [
      "3pt Made - Team A : 37\n",
      "3pt Made(2PT Zone) - Team A : 0\n",
      "3pt Made(NC3 Zone) - Team A : 29\n",
      "3pt Made(C3 Zone) - Team A : 8\n",
      "\n",
      "3pt Made - Team B : 40\n",
      "3pt Made(2PT Zone) - Team B : 0\n",
      "3pt Made(NC3 Zone) - Team B : 35\n",
      "3pt Made(C3 Zone) - Team B : 5\n"
     ]
    }
   ],
   "source": [
    "# 3pt Made - Team A\n",
    "pt3_made_team_a_shots = team_a_shots[(team_a_shots['fgmade'] == 1) & ((team_a_shots['Shot Distribution'] == \"C3\") | (team_a_shots['Shot Distribution'] == \"NC3\"))]\n",
    "pt3_made_team_b_shots = team_b_shots[(team_b_shots['fgmade'] == 1) & ((team_b_shots['Shot Distribution'] == \"C3\") | (team_b_shots['Shot Distribution'] == \"NC3\"))]\n",
    "teamA_3PM = pt3_made_team_a_shots.shape[0]\n",
    "teamA_3PM_NC3 = pt3_made_team_a_shots[pt3_made_team_a_shots['Shot Distribution'] == \"NC3\"].shape[0]\n",
    "teamA_3PM_C3 = pt3_made_team_a_shots[pt3_made_team_a_shots['Shot Distribution'] == \"C3\"].shape[0]\n",
    "try:\n",
    "    teamA_3PM_2PT = pt3_made_team_a_shots[pt3_made_team_a_shots['Shot Distribution'] == \"2PT\"].shape[0]\n",
    "except:\n",
    "    teamA_3PM_2PT = None\n",
    "    \n",
    "# 3pt Made - Team B\n",
    "teamB_3PM = pt3_made_team_b_shots.shape[0]\n",
    "teamB_3PM_NC3 = pt3_made_team_b_shots[pt3_made_team_b_shots['Shot Distribution'] == \"NC3\"].shape[0]\n",
    "teamB_3PM_C3 = pt3_made_team_b_shots[pt3_made_team_b_shots['Shot Distribution'] == \"C3\"].shape[0]\n",
    "try:\n",
    "    teamB_3PM_2PT = pt3_made_team_b_shots[pt3_made_team_b_shots['Shot Distribution'] == \"2PT\"].shape[0]\n",
    "except:\n",
    "    teamB_3PM_2PT = None\n",
    "print(f'3pt Made - Team A : {teamA_3PM}')\n",
    "print(f'3pt Made(2PT Zone) - Team A : {teamA_3PM_2PT}')\n",
    "print(f'3pt Made(NC3 Zone) - Team A : {teamA_3PM_NC3}')\n",
    "print(f'3pt Made(C3 Zone) - Team A : {teamA_3PM_C3}')\n",
    "print(f'\\n3pt Made - Team B : {teamB_3PM}')\n",
    "print(f'3pt Made(2PT Zone) - Team B : {teamB_3PM_2PT}')\n",
    "print(f'3pt Made(NC3 Zone) - Team B : {teamB_3PM_NC3}')\n",
    "print(f'3pt Made(C3 Zone) - Team B : {teamB_3PM_C3}')"
   ]
  },
  {
   "cell_type": "code",
   "execution_count": 87,
   "id": "bff4d8be-7abb-4adb-8f08-56976e86d828",
   "metadata": {},
   "outputs": [
    {
     "name": "stdout",
     "output_type": "stream",
     "text": [
      "Team A Effective All Field Goal Percentage: 44.11%\n",
      "Team A Effective 2PT Field Goal Percentage: 40.00%\n",
      "Team A Effective NC3 Field Goal Percentage: 48.33%\n",
      "Team A Effective C3 Field Goal Percentage: 60.00%\n",
      "\n",
      "Team B Effective All Field Goal Percentage: 48.21%\n",
      "Team B Effective 2PT Field Goal Percentage: 46.01%\n",
      "Team B Effective NC3 Field Goal Percentage: 54.69%\n",
      "Team B Effective C3 Field Goal Percentage: 35.71%\n"
     ]
    }
   ],
   "source": [
    "# Team A Effective Field Goal Percentage\n",
    "eFG_a = (teamA_FGM + ((0.5*teamA_3PM))) / teamA_FGA\n",
    "eFG_a_2PT = (teamA_FGM_2PT + ((0.5*teamA_3PM_2PT))) / teamA_FGA_2PT\n",
    "eFG_a_NC3 = (teamA_FGM_NC3 + ((0.5*teamA_3PM_NC3))) / teamA_FGA_NC3\n",
    "eFG_a_C3 = (teamA_FGM_C3 + ((0.5*teamA_3PM_C3))) / teamA_FGA_C3\n",
    "\n",
    "# Team B Effective Field Goal Percentage\n",
    "eFG_b = (teamB_FGM + ((0.5*teamB_3PM))) / teamB_FGA\n",
    "eFG_b_2PT = (teamB_FGM_2PT + ((0.5*teamB_3PM_2PT))) / teamB_FGA_2PT\n",
    "eFG_b_NC3 = (teamB_FGM_NC3 + ((0.5*teamB_3PM_NC3))) / teamB_FGA_NC3\n",
    "eFG_b_C3 = (teamB_FGM_C3 + ((0.5*teamB_3PM_C3))) / teamB_FGA_C3\n",
    "print (f'Team A Effective All Field Goal Percentage: {eFG_a:.2%}')\n",
    "print (f'Team A Effective 2PT Field Goal Percentage: {eFG_a_2PT:.2%}')\n",
    "print (f'Team A Effective NC3 Field Goal Percentage: {eFG_a_NC3:.2%}')\n",
    "print (f'Team A Effective C3 Field Goal Percentage: {eFG_a_C3:.2%}')\n",
    "print (f'\\nTeam B Effective All Field Goal Percentage: {eFG_b:.2%}')\n",
    "print (f'Team B Effective 2PT Field Goal Percentage: {eFG_b_2PT:.2%}')\n",
    "print (f'Team B Effective NC3 Field Goal Percentage: {eFG_b_NC3:.2%}')\n",
    "print (f'Team B Effective C3 Field Goal Percentage: {eFG_b_C3:.2%}')"
   ]
  },
  {
   "cell_type": "code",
   "execution_count": 92,
   "id": "a765ab88-86d8-4378-8e1d-864b2ecf97f4",
   "metadata": {},
   "outputs": [
    {
     "data": {
      "text/html": [
       "<div>\n",
       "<style scoped>\n",
       "    .dataframe tbody tr th:only-of-type {\n",
       "        vertical-align: middle;\n",
       "    }\n",
       "\n",
       "    .dataframe tbody tr th {\n",
       "        vertical-align: top;\n",
       "    }\n",
       "\n",
       "    .dataframe thead th {\n",
       "        text-align: right;\n",
       "    }\n",
       "</style>\n",
       "<table border=\"1\" class=\"dataframe\">\n",
       "  <thead>\n",
       "    <tr style=\"text-align: right;\">\n",
       "      <th></th>\n",
       "      <th>Team</th>\n",
       "      <th>eFG%</th>\n",
       "      <th>2PT eFG%</th>\n",
       "      <th>NC3 eFG%</th>\n",
       "      <th>C3 eFG%</th>\n",
       "    </tr>\n",
       "  </thead>\n",
       "  <tbody>\n",
       "    <tr>\n",
       "      <th>0</th>\n",
       "      <td>Team A</td>\n",
       "      <td>44.11%</td>\n",
       "      <td>40.00%</td>\n",
       "      <td>48.33%</td>\n",
       "      <td>60.00%</td>\n",
       "    </tr>\n",
       "    <tr>\n",
       "      <th>1</th>\n",
       "      <td>Team B</td>\n",
       "      <td>48.21%</td>\n",
       "      <td>46.01%</td>\n",
       "      <td>54.69%</td>\n",
       "      <td>35.71%</td>\n",
       "    </tr>\n",
       "  </tbody>\n",
       "</table>\n",
       "</div>"
      ],
      "text/plain": [
       "     Team    eFG% 2PT eFG% NC3 eFG% C3 eFG%\n",
       "0  Team A  44.11%   40.00%   48.33%  60.00%\n",
       "1  Team B  48.21%   46.01%   54.69%  35.71%"
      ]
     },
     "execution_count": 92,
     "metadata": {},
     "output_type": "execute_result"
    }
   ],
   "source": [
    "# Show Effective Field Goal Percentage in dataFrame\n",
    "data = [['Team A', f'{(round(eFG_a, 4)):.2%}', f'{(round(eFG_a_2PT, 4)):.2%}', f'{(round(eFG_a_NC3, 4)):.2%}', f'{(round(eFG_a_C3, 4)):.2%}'], \n",
    "        ['Team B', f'{(round(eFG_b, 4)):.2%}', f'{(round(eFG_b_2PT, 4)):.2%}', f'{(round(eFG_b_NC3, 4)):.2%}', f'{(round(eFG_b_C3, 4)):.2%}']]\n",
    "dfefg = pd.DataFrame(data, columns = ['Team', 'eFG%', '2PT eFG%', 'NC3 eFG%', 'C3 eFG%'])\n",
    "dfefg\n"
   ]
  },
  {
   "cell_type": "code",
   "execution_count": 20,
   "id": "19533b37-d739-4613-bc79-62f6c4f00ed0",
   "metadata": {},
   "outputs": [],
   "source": [
    "#End"
   ]
  }
 ],
 "metadata": {
  "kernelspec": {
   "display_name": "Python 3 (ipykernel)",
   "language": "python",
   "name": "python3"
  },
  "language_info": {
   "codemirror_mode": {
    "name": "ipython",
    "version": 3
   },
   "file_extension": ".py",
   "mimetype": "text/x-python",
   "name": "python",
   "nbconvert_exporter": "python",
   "pygments_lexer": "ipython3",
   "version": "3.9.7"
  }
 },
 "nbformat": 4,
 "nbformat_minor": 5
}
